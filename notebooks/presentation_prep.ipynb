{
 "cells": [
  {
   "cell_type": "markdown",
   "id": "266f53e9",
   "metadata": {},
   "source": [
    "## Final dataframe"
   ]
  },
  {
   "cell_type": "code",
   "execution_count": 2,
   "id": "219f307f",
   "metadata": {},
   "outputs": [],
   "source": [
    "import pandas as pd"
   ]
  },
  {
   "cell_type": "code",
   "execution_count": 4,
   "id": "3d3bfc6f",
   "metadata": {},
   "outputs": [
    {
     "data": {
      "text/html": [
       "<div>\n",
       "<style scoped>\n",
       "    .dataframe tbody tr th:only-of-type {\n",
       "        vertical-align: middle;\n",
       "    }\n",
       "\n",
       "    .dataframe tbody tr th {\n",
       "        vertical-align: top;\n",
       "    }\n",
       "\n",
       "    .dataframe thead th {\n",
       "        text-align: right;\n",
       "    }\n",
       "</style>\n",
       "<table border=\"1\" class=\"dataframe\">\n",
       "  <thead>\n",
       "    <tr style=\"text-align: right;\">\n",
       "      <th></th>\n",
       "      <th>Unnamed: 0</th>\n",
       "      <th>Unnamed: 0.1</th>\n",
       "      <th>job_id</th>\n",
       "      <th>url</th>\n",
       "      <th>loc</th>\n",
       "      <th>company_name</th>\n",
       "      <th>job_title</th>\n",
       "      <th>job_description</th>\n",
       "      <th>company_url</th>\n",
       "      <th>clean_description</th>\n",
       "      <th>company culture</th>\n",
       "      <th>inclusion</th>\n",
       "      <th>flexibility</th>\n",
       "      <th>personal development</th>\n",
       "      <th>indeed_review_score</th>\n",
       "    </tr>\n",
       "  </thead>\n",
       "  <tbody>\n",
       "    <tr>\n",
       "      <th>0</th>\n",
       "      <td>0</td>\n",
       "      <td>0</td>\n",
       "      <td>job_baf1c790909ea0b1</td>\n",
       "      <td>https://www.indeed.com/pagead/clk?mo=r&amp;ad=-6NY...</td>\n",
       "      <td>San Diego, CA+2 locations</td>\n",
       "      <td>U.S. Customs and Border Protection</td>\n",
       "      <td>Border Patrol Agent</td>\n",
       "      <td>Border Patrol Agents prevent terrorists and te...</td>\n",
       "      <td>https://www.indeed.com/cmp/U.S. Customs and Bo...</td>\n",
       "      <td>border patrol agents prevent terrorists terror...</td>\n",
       "      <td>20</td>\n",
       "      <td>20</td>\n",
       "      <td>20</td>\n",
       "      <td>20</td>\n",
       "      <td>3.9</td>\n",
       "    </tr>\n",
       "    <tr>\n",
       "      <th>1</th>\n",
       "      <td>1</td>\n",
       "      <td>1</td>\n",
       "      <td>job_60daea4ff25e738f</td>\n",
       "      <td>https://www.indeed.com/pagead/clk?mo=r&amp;ad=-6NY...</td>\n",
       "      <td>Rocklin, CA 95765+4 locations•Remote</td>\n",
       "      <td>Gap Inc.</td>\n",
       "      <td>newCustomer Service Representative</td>\n",
       "      <td>About Gap Inc.\\nOur brands bridge the gaps we ...</td>\n",
       "      <td>https://www.indeed.com/cmp/Gap Inc.</td>\n",
       "      <td>gap brands bridge gaps see world old navy demo...</td>\n",
       "      <td>60</td>\n",
       "      <td>60</td>\n",
       "      <td>20</td>\n",
       "      <td>40</td>\n",
       "      <td>3.7</td>\n",
       "    </tr>\n",
       "    <tr>\n",
       "      <th>2</th>\n",
       "      <td>2</td>\n",
       "      <td>2</td>\n",
       "      <td>job_85f1c40a9e2489be</td>\n",
       "      <td>https://www.indeed.com/rc/clk?jk=85f1c40a9e248...</td>\n",
       "      <td>San Diego, CA (Core-Columbia area)</td>\n",
       "      <td>County of San Diego</td>\n",
       "      <td>Registrar of Voters</td>\n",
       "      <td>The County of San Diego invites resumes for th...</td>\n",
       "      <td>https://www.indeed.com/cmp/County of San Diego</td>\n",
       "      <td>county san diego invites resumes position regi...</td>\n",
       "      <td>0</td>\n",
       "      <td>40</td>\n",
       "      <td>0</td>\n",
       "      <td>0</td>\n",
       "      <td>4.1</td>\n",
       "    </tr>\n",
       "  </tbody>\n",
       "</table>\n",
       "</div>"
      ],
      "text/plain": [
       "   Unnamed: 0  Unnamed: 0.1                job_id  \\\n",
       "0           0             0  job_baf1c790909ea0b1   \n",
       "1           1             1  job_60daea4ff25e738f   \n",
       "2           2             2  job_85f1c40a9e2489be   \n",
       "\n",
       "                                                 url  \\\n",
       "0  https://www.indeed.com/pagead/clk?mo=r&ad=-6NY...   \n",
       "1  https://www.indeed.com/pagead/clk?mo=r&ad=-6NY...   \n",
       "2  https://www.indeed.com/rc/clk?jk=85f1c40a9e248...   \n",
       "\n",
       "                                    loc                        company_name  \\\n",
       "0             San Diego, CA+2 locations  U.S. Customs and Border Protection   \n",
       "1  Rocklin, CA 95765+4 locations•Remote                            Gap Inc.   \n",
       "2    San Diego, CA (Core-Columbia area)                 County of San Diego   \n",
       "\n",
       "                            job_title  \\\n",
       "0                 Border Patrol Agent   \n",
       "1  newCustomer Service Representative   \n",
       "2                 Registrar of Voters   \n",
       "\n",
       "                                     job_description  \\\n",
       "0  Border Patrol Agents prevent terrorists and te...   \n",
       "1  About Gap Inc.\\nOur brands bridge the gaps we ...   \n",
       "2  The County of San Diego invites resumes for th...   \n",
       "\n",
       "                                         company_url  \\\n",
       "0  https://www.indeed.com/cmp/U.S. Customs and Bo...   \n",
       "1                https://www.indeed.com/cmp/Gap Inc.   \n",
       "2     https://www.indeed.com/cmp/County of San Diego   \n",
       "\n",
       "                                   clean_description  company culture  \\\n",
       "0  border patrol agents prevent terrorists terror...               20   \n",
       "1  gap brands bridge gaps see world old navy demo...               60   \n",
       "2  county san diego invites resumes position regi...                0   \n",
       "\n",
       "   inclusion  flexibility  personal development indeed_review_score  \n",
       "0         20           20                    20                 3.9  \n",
       "1         60           20                    40                 3.7  \n",
       "2         40            0                     0                 4.1  "
      ]
     },
     "execution_count": 4,
     "metadata": {},
     "output_type": "execute_result"
    }
   ],
   "source": [
    "df_companysearch = pd.read_csv(\"/Users/datascienceuser/code/reneSalmon/fairjobs/raw_data/df_gen_crit__review_310821-17.csv\")\n",
    "df_companysearch.head(3)"
   ]
  },
  {
   "cell_type": "markdown",
   "id": "b76888de",
   "metadata": {},
   "source": [
    "## Text for criteria description"
   ]
  },
  {
   "cell_type": "markdown",
   "id": "2dd40414",
   "metadata": {},
   "source": [
    "### Company Culture"
   ]
  },
  {
   "cell_type": "markdown",
   "id": "1f969df7",
   "metadata": {},
   "source": [
    "looks for occurences of the words 'support', 'collaboration', 'team', 'value', 'culture' and similar words in the job description"
   ]
  },
  {
   "cell_type": "markdown",
   "id": "cddd6fbe",
   "metadata": {},
   "source": [
    "### Inclusion"
   ]
  },
  {
   "cell_type": "markdown",
   "id": "839fba90",
   "metadata": {},
   "source": [
    "looks for occurences of the words 'transparent', 'fair', 'inclusive', 'equal' and similar words in the job description"
   ]
  },
  {
   "cell_type": "markdown",
   "id": "d7d9fae1",
   "metadata": {},
   "source": [
    "### Flexibility"
   ]
  },
  {
   "cell_type": "markdown",
   "id": "5b6215e0",
   "metadata": {},
   "source": [
    "looks for occurences of the words 'home', 'part time', 'flexible', 'balance', 'vacation' and similar words in the job description"
   ]
  },
  {
   "cell_type": "markdown",
   "id": "d6062d00",
   "metadata": {},
   "source": [
    "### Personal Development"
   ]
  },
  {
   "cell_type": "markdown",
   "id": "ce550c66",
   "metadata": {},
   "source": [
    "looks for occurences of the words 'grow', 'learn', 'train', 'coach', 'develop' and similar words"
   ]
  },
  {
   "cell_type": "markdown",
   "id": "3a344214",
   "metadata": {},
   "source": [
    "## Text for score descriptions"
   ]
  },
  {
   "cell_type": "markdown",
   "id": "8c59e632",
   "metadata": {},
   "source": [
    "### Criteria Score "
   ]
  },
  {
   "cell_type": "markdown",
   "id": "dafcb43f",
   "metadata": {},
   "source": [
    "shows percentage of occurence of the five keywords of the specific criteria, e.g. 4 of the keywords are included in the job description a score of 80% is shown"
   ]
  },
  {
   "cell_type": "markdown",
   "id": "0fca843b",
   "metadata": {},
   "source": [
    "### Relevance Score"
   ]
  },
  {
   "cell_type": "markdown",
   "id": "8c3795ed",
   "metadata": {},
   "source": [
    "shows the product of each criteria score and its corresponding slider value ("
   ]
  },
  {
   "cell_type": "markdown",
   "id": "f3858e9b",
   "metadata": {
    "heading_collapsed": true
   },
   "source": [
    "### Gender Bias"
   ]
  },
  {
   "cell_type": "markdown",
   "id": "1853e71a",
   "metadata": {
    "hidden": true
   },
   "source": [
    "shows if the majority of gender-coded words are female or masculine, a tie is categorized as neutral\n",
    "as a fundament we used the library of ???"
   ]
  },
  {
   "cell_type": "code",
   "execution_count": null,
   "id": "ffdec15a",
   "metadata": {
    "hidden": true
   },
   "outputs": [],
   "source": []
  }
 ],
 "metadata": {
  "kernelspec": {
   "display_name": "Python 3 (ipykernel)",
   "language": "python",
   "name": "python3"
  },
  "language_info": {
   "codemirror_mode": {
    "name": "ipython",
    "version": 3
   },
   "file_extension": ".py",
   "mimetype": "text/x-python",
   "name": "python",
   "nbconvert_exporter": "python",
   "pygments_lexer": "ipython3",
   "version": "3.8.6"
  },
  "toc": {
   "base_numbering": 1,
   "nav_menu": {},
   "number_sections": true,
   "sideBar": true,
   "skip_h1_title": false,
   "title_cell": "Table of Contents",
   "title_sidebar": "Contents",
   "toc_cell": false,
   "toc_position": {},
   "toc_section_display": true,
   "toc_window_display": false
  }
 },
 "nbformat": 4,
 "nbformat_minor": 5
}
