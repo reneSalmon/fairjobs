{
 "cells": [
  {
   "cell_type": "code",
   "execution_count": 24,
   "id": "8e925578",
   "metadata": {},
   "outputs": [],
   "source": [
    "#pip install bs4\n",
    "#!pip install selenium"
   ]
  },
  {
   "cell_type": "code",
   "execution_count": 1,
   "id": "892c2fad",
   "metadata": {},
   "outputs": [],
   "source": [
    "from bs4 import BeautifulSoup\n",
    "import pandas as pd\n",
    "import requests\n",
    "from selenium import webdriver\n",
    "import csv"
   ]
  },
  {
   "cell_type": "code",
   "execution_count": 11,
   "id": "aaf8c614",
   "metadata": {},
   "outputs": [
    {
     "data": {
      "text/html": [
       "<div>\n",
       "<style scoped>\n",
       "    .dataframe tbody tr th:only-of-type {\n",
       "        vertical-align: middle;\n",
       "    }\n",
       "\n",
       "    .dataframe tbody tr th {\n",
       "        vertical-align: top;\n",
       "    }\n",
       "\n",
       "    .dataframe thead th {\n",
       "        text-align: right;\n",
       "    }\n",
       "</style>\n",
       "<table border=\"1\" class=\"dataframe\">\n",
       "  <thead>\n",
       "    <tr style=\"text-align: right;\">\n",
       "      <th></th>\n",
       "      <th>job_id</th>\n",
       "      <th>url</th>\n",
       "      <th>loc</th>\n",
       "      <th>company_name</th>\n",
       "      <th>job_title</th>\n",
       "      <th>job_description</th>\n",
       "      <th>company_url</th>\n",
       "    </tr>\n",
       "  </thead>\n",
       "  <tbody>\n",
       "    <tr>\n",
       "      <th>0</th>\n",
       "      <td>job_baf1c790909ea0b1</td>\n",
       "      <td>https://www.indeed.com/pagead/clk?mo=r&amp;ad=-6NY...</td>\n",
       "      <td>San Diego, CA+2 locations</td>\n",
       "      <td>U.S. Customs and Border Protection</td>\n",
       "      <td>Border Patrol Agent</td>\n",
       "      <td>Border Patrol Agents prevent terrorists and te...</td>\n",
       "      <td>https://www.indeed.com/cmp/U.S. Customs and Bo...</td>\n",
       "    </tr>\n",
       "    <tr>\n",
       "      <th>1</th>\n",
       "      <td>job_60daea4ff25e738f</td>\n",
       "      <td>https://www.indeed.com/pagead/clk?mo=r&amp;ad=-6NY...</td>\n",
       "      <td>Rocklin, CA 95765+4 locations•Remote</td>\n",
       "      <td>Gap Inc.</td>\n",
       "      <td>newCustomer Service Representative</td>\n",
       "      <td>About Gap Inc.\\nOur brands bridge the gaps we ...</td>\n",
       "      <td>https://www.indeed.com/cmp/Gap Inc.</td>\n",
       "    </tr>\n",
       "    <tr>\n",
       "      <th>2</th>\n",
       "      <td>job_85f1c40a9e2489be</td>\n",
       "      <td>https://www.indeed.com/rc/clk?jk=85f1c40a9e248...</td>\n",
       "      <td>San Diego, CA (Core-Columbia area)</td>\n",
       "      <td>County of San Diego</td>\n",
       "      <td>Registrar of Voters</td>\n",
       "      <td>The County of San Diego invites resumes for th...</td>\n",
       "      <td>https://www.indeed.com/cmp/County of San Diego</td>\n",
       "    </tr>\n",
       "    <tr>\n",
       "      <th>3</th>\n",
       "      <td>job_38eab52a8b828c7f</td>\n",
       "      <td>https://www.indeed.com/rc/clk?jk=38eab52a8b828...</td>\n",
       "      <td>Malibu, CA</td>\n",
       "      <td>City of Malibu, CA</td>\n",
       "      <td>Code Enforcement Officer</td>\n",
       "      <td>Application Deadline\\nApplication Deadline Ext...</td>\n",
       "      <td>https://www.indeed.com/cmp/City of Malibu, CA</td>\n",
       "    </tr>\n",
       "    <tr>\n",
       "      <th>4</th>\n",
       "      <td>job_6dc51c91cb582a3e</td>\n",
       "      <td>https://www.indeed.com/company/SafeStreetsUSA/...</td>\n",
       "      <td>Sacramento, CA 95811 (Midtown - Winn Park Capi...</td>\n",
       "      <td>SafeStreetsUSA</td>\n",
       "      <td>newAPPRENTICE NEEDED ASAP</td>\n",
       "      <td>SafeStreets is the largest provider of ADT sec...</td>\n",
       "      <td>https://www.indeed.com/cmp/SafeStreetsUSA</td>\n",
       "    </tr>\n",
       "    <tr>\n",
       "      <th>5</th>\n",
       "      <td>job_97e7a44ba654fb3d</td>\n",
       "      <td>https://www.indeed.com/company/CMC-Groups/jobs...</td>\n",
       "      <td>Lakewood, CA+3 locations</td>\n",
       "      <td>CMC Groups</td>\n",
       "      <td>AT&amp;T Customer Service Representative</td>\n",
       "      <td>An exciting opportunity now exists to join Cor...</td>\n",
       "      <td>https://www.indeed.com/cmp/CMC Groups</td>\n",
       "    </tr>\n",
       "    <tr>\n",
       "      <th>6</th>\n",
       "      <td>job_393340e5ce55c803</td>\n",
       "      <td>https://www.indeed.com/pagead/clk?mo=r&amp;ad=-6NY...</td>\n",
       "      <td>Los Angeles, CA</td>\n",
       "      <td>TransExec Air Service, Inc</td>\n",
       "      <td>Private Jet Flight Attendant</td>\n",
       "      <td>An exclusive private air charter company is cu...</td>\n",
       "      <td>https://www.indeed.com/cmp/TransExec Air Servi...</td>\n",
       "    </tr>\n",
       "    <tr>\n",
       "      <th>7</th>\n",
       "      <td>job_8eceb88f0acf4df9</td>\n",
       "      <td>https://www.indeed.com/rc/clk?cmp=AT%26T%2F-CM...</td>\n",
       "      <td>Los Angeles, CA+2 locations</td>\n",
       "      <td>AT&amp;T/ CMC</td>\n",
       "      <td>AT&amp;T Sales Associate</td>\n",
       "      <td>An exciting opportunity now exists to join Cor...</td>\n",
       "      <td>https://www.indeed.com/cmp/AT&amp;T/ CMC</td>\n",
       "    </tr>\n",
       "    <tr>\n",
       "      <th>8</th>\n",
       "      <td>job_c52e99ae5ee4395b</td>\n",
       "      <td>https://www.indeed.com/pagead/clk?mo=r&amp;ad=-6NY...</td>\n",
       "      <td>Industry, CA 91746•Remote</td>\n",
       "      <td>AMASS GLOBAL NETWORK (US) INC</td>\n",
       "      <td>newIMPORT LOGISTICS COORDINATOR</td>\n",
       "      <td>About usAMASS GLOBAL NETWORK (US) INC, MULTINA...</td>\n",
       "      <td>https://www.indeed.com/cmp/AMASS GLOBAL NETWOR...</td>\n",
       "    </tr>\n",
       "    <tr>\n",
       "      <th>9</th>\n",
       "      <td>job_693fa53d08bfbc27</td>\n",
       "      <td>https://www.indeed.com/company/Wright-Brothers...</td>\n",
       "      <td>Fresno, CA+2 locations•Remote</td>\n",
       "      <td>Wright Brothers, Inc.</td>\n",
       "      <td>newReal Estate Agent - Training Provided</td>\n",
       "      <td>- UNITED STATES ONLY -No.1 Independent Virtual...</td>\n",
       "      <td>https://www.indeed.com/cmp/Wright Brothers, Inc.</td>\n",
       "    </tr>\n",
       "  </tbody>\n",
       "</table>\n",
       "</div>"
      ],
      "text/plain": [
       "                 job_id                                                url  \\\n",
       "0  job_baf1c790909ea0b1  https://www.indeed.com/pagead/clk?mo=r&ad=-6NY...   \n",
       "1  job_60daea4ff25e738f  https://www.indeed.com/pagead/clk?mo=r&ad=-6NY...   \n",
       "2  job_85f1c40a9e2489be  https://www.indeed.com/rc/clk?jk=85f1c40a9e248...   \n",
       "3  job_38eab52a8b828c7f  https://www.indeed.com/rc/clk?jk=38eab52a8b828...   \n",
       "4  job_6dc51c91cb582a3e  https://www.indeed.com/company/SafeStreetsUSA/...   \n",
       "5  job_97e7a44ba654fb3d  https://www.indeed.com/company/CMC-Groups/jobs...   \n",
       "6  job_393340e5ce55c803  https://www.indeed.com/pagead/clk?mo=r&ad=-6NY...   \n",
       "7  job_8eceb88f0acf4df9  https://www.indeed.com/rc/clk?cmp=AT%26T%2F-CM...   \n",
       "8  job_c52e99ae5ee4395b  https://www.indeed.com/pagead/clk?mo=r&ad=-6NY...   \n",
       "9  job_693fa53d08bfbc27  https://www.indeed.com/company/Wright-Brothers...   \n",
       "\n",
       "                                                 loc  \\\n",
       "0                          San Diego, CA+2 locations   \n",
       "1               Rocklin, CA 95765+4 locations•Remote   \n",
       "2                 San Diego, CA (Core-Columbia area)   \n",
       "3                                         Malibu, CA   \n",
       "4  Sacramento, CA 95811 (Midtown - Winn Park Capi...   \n",
       "5                           Lakewood, CA+3 locations   \n",
       "6                                    Los Angeles, CA   \n",
       "7                        Los Angeles, CA+2 locations   \n",
       "8                          Industry, CA 91746•Remote   \n",
       "9                      Fresno, CA+2 locations•Remote   \n",
       "\n",
       "                         company_name  \\\n",
       "0  U.S. Customs and Border Protection   \n",
       "1                            Gap Inc.   \n",
       "2                 County of San Diego   \n",
       "3                  City of Malibu, CA   \n",
       "4                      SafeStreetsUSA   \n",
       "5                          CMC Groups   \n",
       "6          TransExec Air Service, Inc   \n",
       "7                           AT&T/ CMC   \n",
       "8       AMASS GLOBAL NETWORK (US) INC   \n",
       "9               Wright Brothers, Inc.   \n",
       "\n",
       "                                  job_title  \\\n",
       "0                       Border Patrol Agent   \n",
       "1        newCustomer Service Representative   \n",
       "2                       Registrar of Voters   \n",
       "3                  Code Enforcement Officer   \n",
       "4                 newAPPRENTICE NEEDED ASAP   \n",
       "5      AT&T Customer Service Representative   \n",
       "6              Private Jet Flight Attendant   \n",
       "7                      AT&T Sales Associate   \n",
       "8           newIMPORT LOGISTICS COORDINATOR   \n",
       "9  newReal Estate Agent - Training Provided   \n",
       "\n",
       "                                     job_description  \\\n",
       "0  Border Patrol Agents prevent terrorists and te...   \n",
       "1  About Gap Inc.\\nOur brands bridge the gaps we ...   \n",
       "2  The County of San Diego invites resumes for th...   \n",
       "3  Application Deadline\\nApplication Deadline Ext...   \n",
       "4  SafeStreets is the largest provider of ADT sec...   \n",
       "5  An exciting opportunity now exists to join Cor...   \n",
       "6  An exclusive private air charter company is cu...   \n",
       "7  An exciting opportunity now exists to join Cor...   \n",
       "8  About usAMASS GLOBAL NETWORK (US) INC, MULTINA...   \n",
       "9  - UNITED STATES ONLY -No.1 Independent Virtual...   \n",
       "\n",
       "                                         company_url  \n",
       "0  https://www.indeed.com/cmp/U.S. Customs and Bo...  \n",
       "1                https://www.indeed.com/cmp/Gap Inc.  \n",
       "2     https://www.indeed.com/cmp/County of San Diego  \n",
       "3      https://www.indeed.com/cmp/City of Malibu, CA  \n",
       "4          https://www.indeed.com/cmp/SafeStreetsUSA  \n",
       "5              https://www.indeed.com/cmp/CMC Groups  \n",
       "6  https://www.indeed.com/cmp/TransExec Air Servi...  \n",
       "7               https://www.indeed.com/cmp/AT&T/ CMC  \n",
       "8  https://www.indeed.com/cmp/AMASS GLOBAL NETWOR...  \n",
       "9   https://www.indeed.com/cmp/Wright Brothers, Inc.  "
      ]
     },
     "execution_count": 11,
     "metadata": {},
     "output_type": "execute_result"
    }
   ],
   "source": [
    "# from list of company names extract one by one\n",
    "df_gen_crit = pd.read_csv(\"/Users/datascienceuser/code/reneSalmon/fairjobs/raw_data/data_2021-31-08-cleaned_newds.csv\")\n",
    "df_gen_crit.head(10)"
   ]
  },
  {
   "cell_type": "code",
   "execution_count": 6,
   "id": "e3769a3e",
   "metadata": {},
   "outputs": [
    {
     "data": {
      "text/plain": [
       "'Gap Inc.'"
      ]
     },
     "execution_count": 6,
     "metadata": {},
     "output_type": "execute_result"
    }
   ],
   "source": [
    "company1 = df_gen_crit['company_name'][1]\n",
    "company1"
   ]
  },
  {
   "cell_type": "code",
   "execution_count": 12,
   "id": "e9fa27e1",
   "metadata": {},
   "outputs": [],
   "source": [
    "df_on_indeed = df_gen_crit.loc[df_gen_crit['url'].apply(lambda x: 'indeed.com/company' in x) == True]"
   ]
  },
  {
   "cell_type": "code",
   "execution_count": 13,
   "id": "175c7eaf",
   "metadata": {
    "scrolled": true
   },
   "outputs": [
    {
     "name": "stderr",
     "output_type": "stream",
     "text": [
      "/var/folders/8z/mmndjc5s37g3q_x0_bsjy3500000gp/T/ipykernel_57383/2360491598.py:8: DeprecationWarning: use options instead of chrome_options\n",
      "  driver = webdriver.Chrome(chrome_driver_binary, chrome_options=options)\n"
     ]
    }
   ],
   "source": [
    "# code for one company\n",
    "\n",
    "URL= f'https://www.indeed.com/cmp/{company1}'\n",
    "\n",
    "# open url, click to increase list of work happiness scores and scrape the data from it\n",
    "options = webdriver.ChromeOptions()\n",
    "options.binary_location = \"/Applications/Google Chrome.app/Contents/MacOS/Google Chrome\"\n",
    "chrome_driver_binary = \"/Applications/Google Chrome.app/Contents/MacOS/chromedriver\"\n",
    "#URL= 'https://www.indeed.com/cmp/Altec-Industries' - to specific, see for-loop above\n",
    "driver = webdriver.Chrome(chrome_driver_binary, chrome_options=options)\n",
    "driver.get(URL)\n",
    "driver.execute_script(\"window._initialData\")\n",
    "driver.find_elements_by_class_name(\"css-la7p01-StyledButton\")[0].click()\n",
    "soup = BeautifulSoup(driver.page_source, 'html.parser')\n",
    "\n",
    "#elems = soup.find_all(class_=\"css-1abujvx-Box eu4oa1w0\") - wrong class, resulted in one element\n",
    "elems15 = soup.find_all(class_=\"css-6u83tc-Flex e37uo190\")"
   ]
  },
  {
   "cell_type": "code",
   "execution_count": null,
   "id": "06741b40",
   "metadata": {},
   "outputs": [],
   "source": [
    "URL= f'https://www.indeed.com/cmp/{company}'\n",
    "options = webdriver.ChromeOptions()\n",
    "options.binary_location = \"/Applications/Google Chrome.app/Contents/MacOS/Google Chrome\"\n",
    "chrome_driver_binary = \"/Applications/Google Chrome.app/Contents/MacOS/chromedriver\"\n",
    "driver = webdriver.Chrome(chrome_driver_binary, chrome_options=options)\n",
    "driver.get(URL)\n",
    "driver.find_elements_by_class_name(\"css-la7p01-StyledButton\")[0].click()\n",
    "soup = BeautifulSoup(driver.page_source, 'html.parser')\n",
    "elems15 = soup.find_all(class_=\"css-6u83tc-Flex e37uo190\")"
   ]
  },
  {
   "cell_type": "code",
   "execution_count": 14,
   "id": "437fe3fa",
   "metadata": {},
   "outputs": [],
   "source": [
    "# extract the number to later visualize as percentage for all categories\n",
    "categories  = []\n",
    "if len(elems15) == 15:\n",
    "    for elem in elems15:\n",
    "        label = elem['aria-label']\n",
    "        score = int(label.split(\", \")[2].split()[0])\n",
    "        categories.append(score)"
   ]
  },
  {
   "cell_type": "code",
   "execution_count": 15,
   "id": "2f645ee8",
   "metadata": {},
   "outputs": [],
   "source": [
    "# create variables for the specific categories we want to use\n",
    "if categories != []:\n",
    "    learning_score = categories[2]\n",
    "    appreciation_score = categories[7]\n",
    "    flexibility_score = categories[8]\n",
    "    support_score = categories[9]\n",
    "    inclusion_score = categories[10]\n",
    "    stressfree_score = categories[11]\n",
    "    belonging_score = categories[12]\n",
    "    trust_score = categories[13]"
   ]
  },
  {
   "cell_type": "code",
   "execution_count": 20,
   "id": "b26f4f6d",
   "metadata": {},
   "outputs": [
    {
     "name": "stdout",
     "output_type": "stream",
     "text": [
      "{'learning score': 70, 'appreciation score': 68, 'flexibility score': 66, 'support score': 66, 'inclusion score': 65, 'stressfree score': 65, 'belonging score': 65, 'trust score': 63}\n"
     ]
    }
   ],
   "source": [
    "# return list of category names and value\n",
    "categories_dict = {'learning score': learning_score, 'appreciation score': appreciation_score, 'flexibility score': flexibility_score, 'support score': support_score,'inclusion score': inclusion_score, 'stressfree score': stressfree_score, 'belonging score': belonging_score, 'trust score': trust_score}\n",
    "print(categories_dict)"
   ]
  },
  {
   "cell_type": "code",
   "execution_count": 13,
   "id": "d4d3b12b",
   "metadata": {},
   "outputs": [
    {
     "data": {
      "text/plain": [
       "(371, 7)"
      ]
     },
     "execution_count": 13,
     "metadata": {},
     "output_type": "execute_result"
    }
   ],
   "source": [
    "df_on_indeed.shape"
   ]
  },
  {
   "cell_type": "code",
   "execution_count": 15,
   "id": "d5a6c640",
   "metadata": {},
   "outputs": [
    {
     "name": "stdout",
     "output_type": "stream",
     "text": [
      "Thompco Inc\n",
      "Santa Maria Joint Union High School District\n",
      "Dray Alliance\n",
      "S.J. Distributors Inc.\n",
      "SMASH\n",
      "Prism Pharmaceutical\n",
      "Union Pacific\n",
      "AC Pro\n",
      "City of Visalia, CA\n",
      "Corrigan Construction\n"
     ]
    }
   ],
   "source": [
    "for company in df_on_indeed['company_name'][10:20]:\n",
    "    #URL= f'https://www.indeed.com/cmp/{company}'\n",
    "    print(company)"
   ]
  },
  {
   "cell_type": "code",
   "execution_count": 17,
   "id": "617a127b",
   "metadata": {},
   "outputs": [
    {
     "name": "stderr",
     "output_type": "stream",
     "text": [
      "/var/folders/8z/mmndjc5s37g3q_x0_bsjy3500000gp/T/ipykernel_61239/1225437467.py:14: DeprecationWarning: use options instead of chrome_options\n",
      "  driver = webdriver.Chrome(chrome_driver_binary, chrome_options=options)\n"
     ]
    },
    {
     "ename": "IndexError",
     "evalue": "list index out of range",
     "output_type": "error",
     "traceback": [
      "\u001b[0;31m---------------------------------------------------------------------------\u001b[0m",
      "\u001b[0;31mIndexError\u001b[0m                                Traceback (most recent call last)",
      "\u001b[0;32m/var/folders/8z/mmndjc5s37g3q_x0_bsjy3500000gp/T/ipykernel_61239/1225437467.py\u001b[0m in \u001b[0;36m<module>\u001b[0;34m\u001b[0m\n\u001b[1;32m     15\u001b[0m     \u001b[0mdriver\u001b[0m\u001b[0;34m.\u001b[0m\u001b[0mget\u001b[0m\u001b[0;34m(\u001b[0m\u001b[0mURL\u001b[0m\u001b[0;34m)\u001b[0m\u001b[0;34m\u001b[0m\u001b[0;34m\u001b[0m\u001b[0m\n\u001b[1;32m     16\u001b[0m     \u001b[0mdriver\u001b[0m\u001b[0;34m.\u001b[0m\u001b[0mexecute_script\u001b[0m\u001b[0;34m(\u001b[0m\u001b[0;34m\"window._initialData\"\u001b[0m\u001b[0;34m)\u001b[0m\u001b[0;34m\u001b[0m\u001b[0;34m\u001b[0m\u001b[0m\n\u001b[0;32m---> 17\u001b[0;31m     \u001b[0mdriver\u001b[0m\u001b[0;34m.\u001b[0m\u001b[0mfind_elements_by_class_name\u001b[0m\u001b[0;34m(\u001b[0m\u001b[0;34m\"css-la7p01-StyledButton\"\u001b[0m\u001b[0;34m)\u001b[0m\u001b[0;34m[\u001b[0m\u001b[0;36m0\u001b[0m\u001b[0;34m]\u001b[0m\u001b[0;34m.\u001b[0m\u001b[0mclick\u001b[0m\u001b[0;34m(\u001b[0m\u001b[0;34m)\u001b[0m\u001b[0;34m\u001b[0m\u001b[0;34m\u001b[0m\u001b[0m\n\u001b[0m\u001b[1;32m     18\u001b[0m     \u001b[0msoup\u001b[0m \u001b[0;34m=\u001b[0m \u001b[0mBeautifulSoup\u001b[0m\u001b[0;34m(\u001b[0m\u001b[0mdriver\u001b[0m\u001b[0;34m.\u001b[0m\u001b[0mpage_source\u001b[0m\u001b[0;34m,\u001b[0m \u001b[0;34m'html.parser'\u001b[0m\u001b[0;34m)\u001b[0m\u001b[0;34m\u001b[0m\u001b[0;34m\u001b[0m\u001b[0m\n\u001b[1;32m     19\u001b[0m \u001b[0;34m\u001b[0m\u001b[0m\n",
      "\u001b[0;31mIndexError\u001b[0m: list index out of range"
     ]
    }
   ],
   "source": [
    "# code for 10 company names\n",
    "\n",
    "dict_list = []\n",
    "\n",
    "for company in df_on_indeed['company_name'][10:20]:\n",
    "    URL= f'https://www.indeed.com/cmp/{company}'\n",
    "\n",
    "    # open url, click to increase list of work happiness scores and scrape the data from it\n",
    "    options = webdriver.ChromeOptions()\n",
    "    options.binary_location = \"/Applications/Google Chrome.app/Contents/MacOS/Google Chrome\"\n",
    "    chrome_driver_binary = \"/Applications/Google Chrome.app/Contents/MacOS/chromedriver\"\n",
    "    \n",
    "    #URL= 'https://www.indeed.com/cmp/Altec-Industries' - to specific, see for-loop above\n",
    "    driver = webdriver.Chrome(chrome_driver_binary, chrome_options=options)\n",
    "    driver.get(URL)\n",
    "    driver.execute_script(\"window._initialData\")\n",
    "    driver.find_elements_by_class_name(\"css-la7p01-StyledButton\")[0].click()\n",
    "    soup = BeautifulSoup(driver.page_source, 'html.parser')\n",
    "\n",
    "    #elems = soup.find_all(class_=\"css-1abujvx-Box eu4oa1w0\") - wrong class, resulted in one element\n",
    "    elems15 = soup.find_all(class_=\"css-6u83tc-Flex e37uo190\")\n",
    "    \n",
    "    # extract the number to later visualize as percentage for all categories\n",
    "    categories  = []\n",
    "    if len(elems15) == 15:\n",
    "        for elem in elems15:\n",
    "            label = elem['aria-label']\n",
    "            score = int(label.split(\", \")[2].split()[0])\n",
    "            categories.append(score)\n",
    "\n",
    "        # create variables for the specific categories we want to use\n",
    "        if categories != []:\n",
    "            learning_score = categories[2]\n",
    "            appreciation_score = categories[7]\n",
    "            flexibility_score = categories[8]\n",
    "            support_score = categories[9]\n",
    "            inclusion_score = categories[10]\n",
    "            stressfree_score = categories[11]\n",
    "            belonging_score = categories[12]\n",
    "            trust_score = categories[13]\n",
    "    \n",
    "        # return list of category names and value\n",
    "        categories_dict = {'company name': company, 'learning score': learning_score, 'appreciation score': appreciation_score, 'flexibility score': flexibility_score, 'support score': support_score,'inclusion score': inclusion_score, 'stressfree score': stressfree_score, 'belonging score': belonging_score, 'trust score': trust_score}\n",
    "\n",
    "        dict_list.append(categories_dict)\n",
    "    \n",
    "    driver.close()\n",
    "    \n",
    "dict_list"
   ]
  },
  {
   "cell_type": "code",
   "execution_count": null,
   "id": "6be784d5",
   "metadata": {},
   "outputs": [],
   "source": [
    "URL= f'https://www.indeed.com/cmp/{company1}'\n",
    "\n",
    "# open url, click to increase list of work happiness scores and scrape the data from it\n",
    "options = webdriver.ChromeOptions()\n",
    "options.binary_location = \"/Applications/Google Chrome.app/Contents/MacOS/Google Chrome\"\n",
    "chrome_driver_binary = \"/Applications/Google Chrome.app/Contents/MacOS/chromedriver\"\n",
    "#URL= 'https://www.indeed.com/cmp/Altec-Industries' - to specific, see for-loop above\n",
    "driver = webdriver.Chrome(chrome_driver_binary, chrome_options=options)\n",
    "driver.get(URL)\n",
    "driver.execute_script(\"window._initialData\")\n",
    "driver.find_elements_by_class_name(\"css-la7p01-StyledButton\")[0].click()\n",
    "soup = BeautifulSoup(driver.page_source, 'html.parser')\n",
    "\n",
    "#elems = soup.find_all(class_=\"css-1abujvx-Box eu4oa1w0\") - wrong class, resulted in one element\n",
    "elems15 = soup.find_all(class_=\"css-6u83tc-Flex e37uo190\")\n",
    "\n",
    "# extract the detail for each happiness score category\n",
    "for elem in elems15:\n",
    "    return elem['aria-label']\n",
    "\n",
    "    # extract the number to later visualize as percentage for all categories\n",
    "    categories  = []\n",
    "    for elem in elems15:\n",
    "    label = elem['aria-label']\n",
    "    score = int(label.split(\", \")[2].split()[0])\n",
    "    categories.append(score)\n",
    "    return categories\n",
    "\n",
    "    # create variables for the specific categories we want to use\n",
    "    learning_score = categories[2]\n",
    "    appreciation_score = categories[7]\n",
    "    flexibility_score = categories[8]\n",
    "    support_score = categories[9]\n",
    "    inclusion_score = categories[10]\n",
    "    stressfree_score = categories[11]\n",
    "    belonging_score = categories[12]\n",
    "    trust_score = categories[13]\n",
    "\n",
    "    # return list of category names and value\n",
    "    categories_dict = {}\n",
    "    categories_dict.append('learning_score': learning_score, 'appreciation_score': appreciation_score,\\ \n",
    "                       'flexibility_score': flexibility_score, 'support_score': support_score,\\\n",
    "                       'inclusion_score': inclusion_score, 'stressfree_score': stressfree_score, \\\n",
    "                       'belonging_score': belonging_score, 'trust_score': trust_score)\n",
    "\n",
    "# create dataframe with 9 features (company_name and scores)\n",
    "# How to put value in percentage?\n"
   ]
  },
  {
   "cell_type": "code",
   "execution_count": null,
   "id": "fed33746",
   "metadata": {},
   "outputs": [],
   "source": [
    "# scrape scores for each company\n",
    "for company in df_gen_crit['company_name']:\n",
    "    URL= f'https://www.indeed.com/cmp/{company}'\n",
    "    \n",
    "    # open url, click to increase list of work happiness scores and scrape the data from it\n",
    "    options = webdriver.ChromeOptions()\n",
    "    options.binary_location = \"/Applications/Google Chrome.app/Contents/MacOS/Google Chrome\"\n",
    "    chrome_driver_binary = \"/Applications/Google Chrome.app/Contents/MacOS/chromedriver\"\n",
    "    #URL= 'https://www.indeed.com/cmp/Altec-Industries' - to specific, see for-loop above\n",
    "    driver = webdriver.Chrome(chrome_driver_binary, chrome_options=options)\n",
    "    driver.get(URL)\n",
    "    driver.execute_script(\"window._initialData\")\n",
    "    driver.find_elements_by_class_name(\"css-la7p01-StyledButton\")[0].click()\n",
    "    soup = BeautifulSoup(driver.page_source, 'html.parser')\n",
    "    \n",
    "    #elems = soup.find_all(class_=\"css-1abujvx-Box eu4oa1w0\") - wrong class, resulted in one element\n",
    "    elems15 = soup.find_all(class_=\"css-6u83tc-Flex e37uo190\")\n",
    "    \n",
    "    # extract the detail for each happiness score category\n",
    "    for elem in elems15:\n",
    "        return elem['aria-label']\n",
    "    \n",
    "        # extract the number to later visualize as percentage for all categories\n",
    "        categories  = []\n",
    "        for elem in elems15:\n",
    "        label = elem['aria-label']\n",
    "        score = int(label.split(\", \")[2].split()[0])\n",
    "        categories.append(score)\n",
    "        return categories\n",
    "\n",
    "        # create variables for the specific categories we want to use\n",
    "        learning_score = categories[2]\n",
    "        appreciation_score = categories[7]\n",
    "        flexibility_score = categories[8]\n",
    "        support_score = categories[9]\n",
    "        inclusion_score = categories[10]\n",
    "        stressfree_score = categories[11]\n",
    "        belonging_score = categories[12]\n",
    "        trust_score = categories[13]\n",
    "\n",
    "    # return list of category names and value\n",
    "    categories_dict = {}\n",
    "    categories_dict.append('learning_score': learning_score, 'appreciation_score': appreciation_score,\\ \n",
    "                           'flexibility_score': flexibility_score, 'support_score': support_score,\\\n",
    "                           'inclusion_score': inclusion_score, 'stressfree_score': stressfree_score, \\\n",
    "                           'belonging_score': belonging_score, 'trust_score': trust_score)\n",
    "\n",
    "    # create dataframe with 9 features (company_name and scores)\n",
    "# How to put value in percentage?\n"
   ]
  },
  {
   "cell_type": "code",
   "execution_count": 52,
   "id": "c567ae75",
   "metadata": {
    "scrolled": true
   },
   "outputs": [
    {
     "name": "stderr",
     "output_type": "stream",
     "text": [
      "/var/folders/8z/mmndjc5s37g3q_x0_bsjy3500000gp/T/ipykernel_39210/247627892.py:6: DeprecationWarning: use options instead of chrome_options\n",
      "  driver = webdriver.Chrome(chrome_driver_binary, chrome_options=options)\n"
     ]
    }
   ],
   "source": [
    "# open url, click to increase list of work happiness scores and scrape the data from it\n",
    "options = webdriver.ChromeOptions()\n",
    "options.binary_location = \"/Applications/Google Chrome.app/Contents/MacOS/Google Chrome\"\n",
    "chrome_driver_binary = \"/Applications/Google Chrome.app/Contents/MacOS/chromedriver\"\n",
    "#URL= 'https://www.indeed.com/cmp/Altec-Industries'\n",
    "driver = webdriver.Chrome(chrome_driver_binary, chrome_options=options)\n",
    "driver.get(URL)\n",
    "driver.execute_script(\"window._initialData\")\n",
    "driver.find_elements_by_class_name(\"css-la7p01-StyledButton\")[0].click()\n",
    "soup = BeautifulSoup(driver.page_source, 'html.parser')\n",
    "#elems = soup.find_all(class_=\"css-1abujvx-Box eu4oa1w0\") - wrong class, resulted in one element\n",
    "elems15 = soup.find_all(class_=\"css-6u83tc-Flex e37uo190\")"
   ]
  },
  {
   "cell_type": "code",
   "execution_count": 110,
   "id": "85c4be9c",
   "metadata": {},
   "outputs": [
    {
     "data": {
      "text/plain": [
       "15"
      ]
     },
     "execution_count": 110,
     "metadata": {},
     "output_type": "execute_result"
    }
   ],
   "source": [
    "# check if scraped element consists of 15 elements\n",
    "len(elems15)"
   ]
  },
  {
   "cell_type": "code",
   "execution_count": 109,
   "id": "e75d5e6b",
   "metadata": {},
   "outputs": [
    {
     "name": "stdout",
     "output_type": "stream",
     "text": [
      "Work Happiness Score, Below average, 57 out of 100\n",
      "Compensation, Average, 69 out of 100\n",
      "Learning, Average, 68 out of 100\n",
      "Achievement, Average, 68 out of 100\n",
      "Purpose, Average, 67 out of 100\n",
      "Energy, Average, 61 out of 100\n",
      "Satisfaction, Average, 61 out of 100\n",
      "Appreciation, Average, 60 out of 100\n",
      "Flexibility, Below average, 59 out of 100\n",
      "Support, Below average, 58 out of 100\n",
      "Inclusion, Below average, 55 out of 100\n",
      "Stress-free, Below average, 55 out of 100\n",
      "Belonging, Below average, 52 out of 100\n",
      "Trust, Below average, 52 out of 100\n",
      "Management, Below average, 51 out of 100\n"
     ]
    }
   ],
   "source": [
    "# extract the detail for each happiness score category\n",
    "for elem in elems15:\n",
    "    print(elem['aria-label'])"
   ]
  },
  {
   "cell_type": "code",
   "execution_count": 108,
   "id": "bc702e80",
   "metadata": {},
   "outputs": [
    {
     "name": "stdout",
     "output_type": "stream",
     "text": [
      "[57, 69, 68, 68, 67, 61, 61, 60, 59, 58, 55, 55, 52, 52, 51]\n"
     ]
    }
   ],
   "source": [
    "# extract the number to later visualize as percentage for all categories\n",
    "categories  = []\n",
    "for elem in elems15:\n",
    "    label = elem['aria-label']\n",
    "    score = int(label.split(\", \")[2].split()[0])\n",
    "    categories.append(score)\n",
    "print(categories)"
   ]
  },
  {
   "cell_type": "code",
   "execution_count": 107,
   "id": "670a84f3",
   "metadata": {},
   "outputs": [],
   "source": [
    "# create variables for the specific categories we want to use\n",
    "learning_score = categories[2]\n",
    "appreciation_score = categories[7]\n",
    "flexibility_score = categories[8]\n",
    "support_score = categories[9]\n",
    "inclusion_score = categories[10]\n",
    "stressfree_score = categories[11]\n",
    "belonging_score = categories[12]\n",
    "trust_score = categories[13]"
   ]
  },
  {
   "cell_type": "code",
   "execution_count": null,
   "id": "850363cc",
   "metadata": {},
   "outputs": [],
   "source": [
    "# add scores as features to existing dataframe\n"
   ]
  }
 ],
 "metadata": {
  "kernelspec": {
   "display_name": "Python 3 (ipykernel)",
   "language": "python",
   "name": "python3"
  },
  "language_info": {
   "codemirror_mode": {
    "name": "ipython",
    "version": 3
   },
   "file_extension": ".py",
   "mimetype": "text/x-python",
   "name": "python",
   "nbconvert_exporter": "python",
   "pygments_lexer": "ipython3",
   "version": "3.8.6"
  },
  "toc": {
   "base_numbering": 1,
   "nav_menu": {},
   "number_sections": true,
   "sideBar": true,
   "skip_h1_title": false,
   "title_cell": "Table of Contents",
   "title_sidebar": "Contents",
   "toc_cell": false,
   "toc_position": {},
   "toc_section_display": true,
   "toc_window_display": false
  }
 },
 "nbformat": 4,
 "nbformat_minor": 5
}
