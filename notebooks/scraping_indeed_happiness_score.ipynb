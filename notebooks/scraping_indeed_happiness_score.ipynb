{
 "cells": [
  {
   "cell_type": "code",
   "execution_count": 24,
   "id": "8e925578",
   "metadata": {},
   "outputs": [],
   "source": [
    "#pip install bs4\n",
    "#!pip install selenium"
   ]
  },
  {
   "cell_type": "code",
   "execution_count": 2,
   "id": "892c2fad",
   "metadata": {},
   "outputs": [],
   "source": [
    "from bs4 import BeautifulSoup\n",
    "import pandas as pd\n",
    "import requests\n",
    "from selenium import webdriver"
   ]
  },
  {
   "cell_type": "code",
   "execution_count": 52,
   "id": "c567ae75",
   "metadata": {
    "scrolled": true
   },
   "outputs": [
    {
     "name": "stderr",
     "output_type": "stream",
     "text": [
      "/var/folders/8z/mmndjc5s37g3q_x0_bsjy3500000gp/T/ipykernel_39210/247627892.py:6: DeprecationWarning: use options instead of chrome_options\n",
      "  driver = webdriver.Chrome(chrome_driver_binary, chrome_options=options)\n"
     ]
    }
   ],
   "source": [
    "# open url, click to increase list of work happiness scores and scrape the data from it\n",
    "options = webdriver.ChromeOptions()\n",
    "options.binary_location = \"/Applications/Google Chrome.app/Contents/MacOS/Google Chrome\"\n",
    "chrome_driver_binary = \"/Applications/Google Chrome.app/Contents/MacOS/chromedriver\"\n",
    "URL= 'https://www.indeed.com/cmp/Altec-Industries'\n",
    "driver = webdriver.Chrome(chrome_driver_binary, chrome_options=options)\n",
    "driver.get(URL)\n",
    "driver.execute_script(\"window._initialData\")\n",
    "driver.find_elements_by_class_name(\"css-la7p01-StyledButton\")[0].click()\n",
    "soup = BeautifulSoup(driver.page_source, 'html.parser')\n",
    "#elems = soup.find_all(class_=\"css-1abujvx-Box eu4oa1w0\") - wrong class, resulted in one element\n",
    "elems15 = soup.find_all(class_=\"css-6u83tc-Flex e37uo190\")"
   ]
  },
  {
   "cell_type": "code",
   "execution_count": 110,
   "id": "85c4be9c",
   "metadata": {},
   "outputs": [
    {
     "data": {
      "text/plain": [
       "15"
      ]
     },
     "execution_count": 110,
     "metadata": {},
     "output_type": "execute_result"
    }
   ],
   "source": [
    "# check if scraped element consists of 15 elements\n",
    "len(elems15)"
   ]
  },
  {
   "cell_type": "code",
   "execution_count": 109,
   "id": "e75d5e6b",
   "metadata": {},
   "outputs": [
    {
     "name": "stdout",
     "output_type": "stream",
     "text": [
      "Work Happiness Score, Below average, 57 out of 100\n",
      "Compensation, Average, 69 out of 100\n",
      "Learning, Average, 68 out of 100\n",
      "Achievement, Average, 68 out of 100\n",
      "Purpose, Average, 67 out of 100\n",
      "Energy, Average, 61 out of 100\n",
      "Satisfaction, Average, 61 out of 100\n",
      "Appreciation, Average, 60 out of 100\n",
      "Flexibility, Below average, 59 out of 100\n",
      "Support, Below average, 58 out of 100\n",
      "Inclusion, Below average, 55 out of 100\n",
      "Stress-free, Below average, 55 out of 100\n",
      "Belonging, Below average, 52 out of 100\n",
      "Trust, Below average, 52 out of 100\n",
      "Management, Below average, 51 out of 100\n"
     ]
    }
   ],
   "source": [
    "# extract the detail for each happiness score category\n",
    "for elem in elems15:\n",
    "    print(elem['aria-label'])"
   ]
  },
  {
   "cell_type": "code",
   "execution_count": 108,
   "id": "bc702e80",
   "metadata": {},
   "outputs": [
    {
     "name": "stdout",
     "output_type": "stream",
     "text": [
      "[57, 69, 68, 68, 67, 61, 61, 60, 59, 58, 55, 55, 52, 52, 51]\n"
     ]
    }
   ],
   "source": [
    "# extract the number to later visualize as percentage for all categories\n",
    "categories  = []\n",
    "for elem in elems15:\n",
    "    label = elem['aria-label']\n",
    "    score = int(label.split(\", \")[2].split()[0])\n",
    "    categories.append(score)\n",
    "print(categories)"
   ]
  },
  {
   "cell_type": "code",
   "execution_count": 107,
   "id": "670a84f3",
   "metadata": {},
   "outputs": [],
   "source": [
    "# create variables for the specific categories we want to use\n",
    "learning_score = categories[2]\n",
    "appreciation_score = categories[7]\n",
    "flexibility_score = categories[8]\n",
    "support_score = categories[9]\n",
    "inclusion_score = categories[10]\n",
    "stressfree_score = categories[11]\n",
    "belonging_score = categories[12]\n",
    "trust_score = categories[13]"
   ]
  },
  {
   "cell_type": "code",
   "execution_count": null,
   "id": "850363cc",
   "metadata": {},
   "outputs": [],
   "source": []
  }
 ],
 "metadata": {
  "kernelspec": {
   "display_name": "Python 3 (ipykernel)",
   "language": "python",
   "name": "python3"
  },
  "language_info": {
   "codemirror_mode": {
    "name": "ipython",
    "version": 3
   },
   "file_extension": ".py",
   "mimetype": "text/x-python",
   "name": "python",
   "nbconvert_exporter": "python",
   "pygments_lexer": "ipython3",
   "version": "3.8.6"
  }
 },
 "nbformat": 4,
 "nbformat_minor": 5
}
